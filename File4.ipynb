{
 "cells": [
  {
   "cell_type": "markdown",
   "id": "ffbb8ad3",
   "metadata": {},
   "source": [
    "<h1> Pandas </h1>"
   ]
  },
  {
   "cell_type": "code",
   "execution_count": 1,
   "id": "83217ef6",
   "metadata": {},
   "outputs": [],
   "source": [
    "import numpy as np\n",
    "import pandas as pd"
   ]
  },
  {
   "cell_type": "code",
   "execution_count": 2,
   "id": "765fa979",
   "metadata": {},
   "outputs": [],
   "source": [
    "marks = [90,78,89,71]\n",
    "name = ['Bruce','Patrick','Hari','Robert']"
   ]
  },
  {
   "cell_type": "code",
   "execution_count": 5,
   "id": "b7da8748",
   "metadata": {},
   "outputs": [],
   "source": [
    "ser = pd.Series(marks,index=name)"
   ]
  },
  {
   "cell_type": "code",
   "execution_count": 6,
   "id": "82d73754",
   "metadata": {},
   "outputs": [],
   "source": [
    "del ser['Hari']"
   ]
  },
  {
   "cell_type": "code",
   "execution_count": 7,
   "id": "f67c5f3c",
   "metadata": {},
   "outputs": [
    {
     "data": {
      "text/plain": [
       "Bruce      90\n",
       "Patrick    78\n",
       "Robert     71\n",
       "dtype: int64"
      ]
     },
     "execution_count": 7,
     "metadata": {},
     "output_type": "execute_result"
    }
   ],
   "source": [
    "ser"
   ]
  },
  {
   "cell_type": "code",
   "execution_count": 8,
   "id": "dca4b5b6",
   "metadata": {},
   "outputs": [
    {
     "data": {
      "text/plain": [
       "False"
      ]
     },
     "execution_count": 8,
     "metadata": {},
     "output_type": "execute_result"
    }
   ],
   "source": [
    "'virat' in ser"
   ]
  },
  {
   "cell_type": "code",
   "execution_count": null,
   "id": "951c3dbb",
   "metadata": {},
   "outputs": [],
   "source": []
  }
 ],
 "metadata": {
  "kernelspec": {
   "display_name": "Python 3 (ipykernel)",
   "language": "python",
   "name": "python3"
  },
  "language_info": {
   "codemirror_mode": {
    "name": "ipython",
    "version": 3
   },
   "file_extension": ".py",
   "mimetype": "text/x-python",
   "name": "python",
   "nbconvert_exporter": "python",
   "pygments_lexer": "ipython3",
   "version": "3.9.12"
  }
 },
 "nbformat": 4,
 "nbformat_minor": 5
}
