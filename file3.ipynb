{
 "cells": [
  {
   "cell_type": "code",
   "execution_count": 1,
   "id": "8601628f",
   "metadata": {},
   "outputs": [],
   "source": [
    "import numpy as np"
   ]
  },
  {
   "cell_type": "code",
   "execution_count": 2,
   "id": "549900a9",
   "metadata": {},
   "outputs": [],
   "source": [
    "arr = np.array([45,43,35,37,39,43,46,48,37,38])"
   ]
  },
  {
   "cell_type": "code",
   "execution_count": 3,
   "id": "30646073",
   "metadata": {},
   "outputs": [
    {
     "data": {
      "text/plain": [
       "41.1"
      ]
     },
     "execution_count": 3,
     "metadata": {},
     "output_type": "execute_result"
    }
   ],
   "source": [
    "avgTemp = np.mean(arr)\n",
    "avgTemp"
   ]
  },
  {
   "cell_type": "code",
   "execution_count": 4,
   "id": "42f21d6f",
   "metadata": {},
   "outputs": [
    {
     "data": {
      "text/plain": [
       "41.0"
      ]
     },
     "execution_count": 4,
     "metadata": {},
     "output_type": "execute_result"
    }
   ],
   "source": [
    "medianTemp = np.median(arr)\n",
    "medianTemp"
   ]
  },
  {
   "cell_type": "code",
   "execution_count": 13,
   "id": "f2fa1c2c",
   "metadata": {},
   "outputs": [],
   "source": [
    "arr2 =np.random.rand(3,2)"
   ]
  },
  {
   "cell_type": "code",
   "execution_count": 14,
   "id": "9e2190e7",
   "metadata": {},
   "outputs": [
    {
     "data": {
      "text/plain": [
       "array([[0.89903823, 0.27874169],\n",
       "       [0.3705261 , 0.44721772],\n",
       "       [0.7665681 , 0.04438904]])"
      ]
     },
     "execution_count": 14,
     "metadata": {},
     "output_type": "execute_result"
    }
   ],
   "source": [
    "arr2"
   ]
  },
  {
   "cell_type": "code",
   "execution_count": 15,
   "id": "202125d5",
   "metadata": {},
   "outputs": [],
   "source": [
    "np.random.seed(40)\n",
    "arr3 = np.random.rand(3,2)"
   ]
  },
  {
   "cell_type": "code",
   "execution_count": 17,
   "id": "2f790980",
   "metadata": {},
   "outputs": [
    {
     "data": {
      "text/plain": [
       "array([[0.40768703, 0.05536604],\n",
       "       [0.78853488, 0.28730518],\n",
       "       [0.45035059, 0.30391231]])"
      ]
     },
     "execution_count": 17,
     "metadata": {},
     "output_type": "execute_result"
    }
   ],
   "source": [
    "arr3"
   ]
  },
  {
   "cell_type": "code",
   "execution_count": 18,
   "id": "5fe86954",
   "metadata": {},
   "outputs": [],
   "source": [
    "newArr = np.random.normal(loc=45,scale=1,size=10)"
   ]
  },
  {
   "cell_type": "code",
   "execution_count": 19,
   "id": "b581f25c",
   "metadata": {},
   "outputs": [
    {
     "data": {
      "text/plain": [
       "array([47.29249034, 45.48881005, 45.71026699, 46.05553444, 45.0540731 ,\n",
       "       45.25795342, 45.58828165, 45.88524424, 43.98299298, 44.86630697])"
      ]
     },
     "execution_count": 19,
     "metadata": {},
     "output_type": "execute_result"
    }
   ],
   "source": [
    "newArr"
   ]
  },
  {
   "cell_type": "code",
   "execution_count": 20,
   "id": "939b3e7e",
   "metadata": {},
   "outputs": [],
   "source": [
    "newArr2 = np.random.rand(5)"
   ]
  },
  {
   "cell_type": "code",
   "execution_count": 21,
   "id": "07ec41a2",
   "metadata": {},
   "outputs": [
    {
     "data": {
      "text/plain": [
       "array([0.83530018, 0.20224823, 0.17420267, 0.44914708, 0.66979478])"
      ]
     },
     "execution_count": 21,
     "metadata": {},
     "output_type": "execute_result"
    }
   ],
   "source": [
    "newArr2"
   ]
  },
  {
   "cell_type": "code",
   "execution_count": 22,
   "id": "ece334d7",
   "metadata": {},
   "outputs": [],
   "source": [
    "newArr3 = np.random.randint(low=10,high=50,size=10)"
   ]
  },
  {
   "cell_type": "code",
   "execution_count": 23,
   "id": "03500027",
   "metadata": {},
   "outputs": [
    {
     "data": {
      "text/plain": [
       "array([25, 13, 40, 33, 45, 44, 41, 28, 15, 26])"
      ]
     },
     "execution_count": 23,
     "metadata": {},
     "output_type": "execute_result"
    }
   ],
   "source": [
    "newArr3"
   ]
  },
  {
   "cell_type": "code",
   "execution_count": 25,
   "id": "1b4353ce",
   "metadata": {},
   "outputs": [],
   "source": [
    "v1 = np.array([10,10,10])\n",
    "v2 = np.array([5,5,5])"
   ]
  },
  {
   "cell_type": "code",
   "execution_count": 26,
   "id": "6780c553",
   "metadata": {},
   "outputs": [
    {
     "data": {
      "text/plain": [
       "150"
      ]
     },
     "execution_count": 26,
     "metadata": {},
     "output_type": "execute_result"
    }
   ],
   "source": [
    "np.dot(v1,v2)"
   ]
  },
  {
   "cell_type": "code",
   "execution_count": 29,
   "id": "2b46d4ff",
   "metadata": {},
   "outputs": [],
   "source": [
    "randomArray1 = np.random.randint(2,7,(2,4))\n",
    "randomArray2 = np.random.randint(2,7,(4,2))"
   ]
  },
  {
   "cell_type": "code",
   "execution_count": 30,
   "id": "e8092bda",
   "metadata": {},
   "outputs": [
    {
     "data": {
      "text/plain": [
       "array([[46, 66],\n",
       "       [51, 68]])"
      ]
     },
     "execution_count": 30,
     "metadata": {},
     "output_type": "execute_result"
    }
   ],
   "source": [
    "np.dot(randomArray1,randomArray2)"
   ]
  },
  {
   "cell_type": "code",
   "execution_count": 31,
   "id": "4bf5f3b6",
   "metadata": {},
   "outputs": [],
   "source": [
    "ara = np.zeros((3,2),dtype='int')"
   ]
  },
  {
   "cell_type": "code",
   "execution_count": 32,
   "id": "1e6e9ea2",
   "metadata": {},
   "outputs": [
    {
     "data": {
      "text/plain": [
       "array([[0, 0],\n",
       "       [0, 0],\n",
       "       [0, 0]])"
      ]
     },
     "execution_count": 32,
     "metadata": {},
     "output_type": "execute_result"
    }
   ],
   "source": [
    "ara"
   ]
  },
  {
   "cell_type": "code",
   "execution_count": 33,
   "id": "5635f0e4",
   "metadata": {},
   "outputs": [
    {
     "data": {
      "text/plain": [
       "array([[1, 0, 0, 0],\n",
       "       [0, 1, 0, 0],\n",
       "       [0, 0, 1, 0],\n",
       "       [0, 0, 0, 1]])"
      ]
     },
     "execution_count": 33,
     "metadata": {},
     "output_type": "execute_result"
    }
   ],
   "source": [
    "ara2 = np.identity(4,dtype='int')\n",
    "ara2"
   ]
  },
  {
   "cell_type": "code",
   "execution_count": 34,
   "id": "497ea596",
   "metadata": {},
   "outputs": [],
   "source": [
    "ages = np.array([19,35,18,42,17,40])"
   ]
  },
  {
   "cell_type": "code",
   "execution_count": 42,
   "id": "486bad28",
   "metadata": {},
   "outputs": [],
   "source": [
    "newAges = np.where(ages<20,'T','NT')"
   ]
  },
  {
   "cell_type": "code",
   "execution_count": 43,
   "id": "8b5d0264",
   "metadata": {},
   "outputs": [
    {
     "data": {
      "text/plain": [
       "array(['T', 'NT', 'T', 'NT', 'T', 'NT'], dtype='<U2')"
      ]
     },
     "execution_count": 43,
     "metadata": {},
     "output_type": "execute_result"
    }
   ],
   "source": [
    "newAges"
   ]
  },
  {
   "cell_type": "code",
   "execution_count": null,
   "id": "2b5eec19",
   "metadata": {},
   "outputs": [],
   "source": []
  }
 ],
 "metadata": {
  "kernelspec": {
   "display_name": "Python 3 (ipykernel)",
   "language": "python",
   "name": "python3"
  },
  "language_info": {
   "codemirror_mode": {
    "name": "ipython",
    "version": 3
   },
   "file_extension": ".py",
   "mimetype": "text/x-python",
   "name": "python",
   "nbconvert_exporter": "python",
   "pygments_lexer": "ipython3",
   "version": "3.9.12"
  }
 },
 "nbformat": 4,
 "nbformat_minor": 5
}
