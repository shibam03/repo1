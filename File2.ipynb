{
 "cells": [
  {
   "cell_type": "markdown",
   "id": "9712c7f0",
   "metadata": {},
   "source": [
    "<h1> Start of Day 2"
   ]
  },
  {
   "cell_type": "code",
   "execution_count": 1,
   "id": "9cf54ace",
   "metadata": {},
   "outputs": [],
   "source": [
    "import numpy as np"
   ]
  },
  {
   "cell_type": "code",
   "execution_count": 2,
   "id": "df936d79",
   "metadata": {},
   "outputs": [],
   "source": [
    "import pandas as pd"
   ]
  },
  {
   "cell_type": "code",
   "execution_count": 3,
   "id": "e50ce19f",
   "metadata": {},
   "outputs": [],
   "source": [
    "arr = np.arange(5)"
   ]
  },
  {
   "cell_type": "code",
   "execution_count": 4,
   "id": "436d8258",
   "metadata": {},
   "outputs": [
    {
     "data": {
      "text/plain": [
       "array([0, 1, 2, 3, 4])"
      ]
     },
     "execution_count": 4,
     "metadata": {},
     "output_type": "execute_result"
    }
   ],
   "source": [
    "arr"
   ]
  },
  {
   "cell_type": "code",
   "execution_count": 6,
   "id": "480ba585",
   "metadata": {},
   "outputs": [
    {
     "name": "stdout",
     "output_type": "stream",
     "text": [
      "[0 1 2 3 4 5]\n"
     ]
    }
   ],
   "source": [
    "arr = np.arange(6)\n",
    "print(arr)"
   ]
  },
  {
   "cell_type": "code",
   "execution_count": 7,
   "id": "e5c099dc",
   "metadata": {},
   "outputs": [],
   "source": [
    "arr.resize(2,3)"
   ]
  },
  {
   "cell_type": "code",
   "execution_count": 8,
   "id": "8fa3c34a",
   "metadata": {},
   "outputs": [
    {
     "data": {
      "text/plain": [
       "array([[0, 1, 2],\n",
       "       [3, 4, 5]])"
      ]
     },
     "execution_count": 8,
     "metadata": {},
     "output_type": "execute_result"
    }
   ],
   "source": [
    "arr"
   ]
  },
  {
   "cell_type": "code",
   "execution_count": 9,
   "id": "b1461eb0",
   "metadata": {},
   "outputs": [],
   "source": [
    "arr2 = np.arange(5)"
   ]
  },
  {
   "cell_type": "code",
   "execution_count": 10,
   "id": "edabb7d1",
   "metadata": {},
   "outputs": [
    {
     "data": {
      "text/plain": [
       "array([0, 1, 2, 3, 4])"
      ]
     },
     "execution_count": 10,
     "metadata": {},
     "output_type": "execute_result"
    }
   ],
   "source": [
    "arr2"
   ]
  },
  {
   "cell_type": "code",
   "execution_count": 20,
   "id": "0e4cab96",
   "metadata": {},
   "outputs": [],
   "source": [
    "arr = arr.reshape(2,3)"
   ]
  },
  {
   "cell_type": "code",
   "execution_count": 21,
   "id": "88ed53a7",
   "metadata": {},
   "outputs": [
    {
     "data": {
      "text/plain": [
       "array([[0, 1, 2],\n",
       "       [3, 4, 5]])"
      ]
     },
     "execution_count": 21,
     "metadata": {},
     "output_type": "execute_result"
    }
   ],
   "source": [
    "arr"
   ]
  },
  {
   "cell_type": "markdown",
   "id": "140d7472",
   "metadata": {},
   "source": [
    "<h3> Vectorization"
   ]
  },
  {
   "cell_type": "code",
   "execution_count": 22,
   "id": "f679b500",
   "metadata": {},
   "outputs": [],
   "source": [
    "arr = np.arange(10)"
   ]
  },
  {
   "cell_type": "code",
   "execution_count": 23,
   "id": "6e52fd28",
   "metadata": {
    "scrolled": true
   },
   "outputs": [
    {
     "data": {
      "text/plain": [
       "array([0, 1, 2, 3, 4, 5, 6, 7, 8, 9])"
      ]
     },
     "execution_count": 23,
     "metadata": {},
     "output_type": "execute_result"
    }
   ],
   "source": [
    "arr"
   ]
  },
  {
   "cell_type": "code",
   "execution_count": 24,
   "id": "3ed47413",
   "metadata": {},
   "outputs": [],
   "source": [
    "newList = []\n",
    "for i in arr:\n",
    "    newList.append(i+10)"
   ]
  },
  {
   "cell_type": "code",
   "execution_count": 25,
   "id": "e6500544",
   "metadata": {},
   "outputs": [],
   "source": [
    "newArr = np.array(newList)"
   ]
  },
  {
   "cell_type": "code",
   "execution_count": 26,
   "id": "0b7a8d9d",
   "metadata": {},
   "outputs": [
    {
     "data": {
      "text/plain": [
       "array([10, 11, 12, 13, 14, 15, 16, 17, 18, 19])"
      ]
     },
     "execution_count": 26,
     "metadata": {},
     "output_type": "execute_result"
    }
   ],
   "source": [
    "newArr"
   ]
  },
  {
   "cell_type": "code",
   "execution_count": 27,
   "id": "6cfd9daf",
   "metadata": {},
   "outputs": [],
   "source": [
    "newArr = newArr + 10"
   ]
  },
  {
   "cell_type": "markdown",
   "id": "1f710e1b",
   "metadata": {},
   "source": [
    "newArr"
   ]
  },
  {
   "cell_type": "code",
   "execution_count": 31,
   "id": "d7f78287",
   "metadata": {},
   "outputs": [],
   "source": [
    "ages = np.array([19,35,18,42,17,40])\n",
    "arrb = ages<20"
   ]
  },
  {
   "cell_type": "code",
   "execution_count": 32,
   "id": "b6eafd50",
   "metadata": {},
   "outputs": [
    {
     "data": {
      "text/plain": [
       "array([19, 18, 17])"
      ]
     },
     "execution_count": 32,
     "metadata": {},
     "output_type": "execute_result"
    }
   ],
   "source": [
    "ages[arrb]"
   ]
  },
  {
   "cell_type": "code",
   "execution_count": 33,
   "id": "76c1af97",
   "metadata": {},
   "outputs": [],
   "source": [
    "arrb2 = (ages<20) | (ages>40) "
   ]
  },
  {
   "cell_type": "code",
   "execution_count": 34,
   "id": "d653f033",
   "metadata": {},
   "outputs": [
    {
     "data": {
      "text/plain": [
       "array([19, 18, 42, 17])"
      ]
     },
     "execution_count": 34,
     "metadata": {},
     "output_type": "execute_result"
    }
   ],
   "source": [
    "ages[arrb2]"
   ]
  },
  {
   "cell_type": "code",
   "execution_count": 35,
   "id": "8f12e207",
   "metadata": {},
   "outputs": [
    {
     "data": {
      "text/plain": [
       "array([35])"
      ]
     },
     "execution_count": 35,
     "metadata": {},
     "output_type": "execute_result"
    }
   ],
   "source": [
    "ages[(ages>20)&(ages<40)]"
   ]
  },
  {
   "cell_type": "code",
   "execution_count": 50,
   "id": "c0b75c37",
   "metadata": {},
   "outputs": [],
   "source": [
    "sal = np.array([20000,30000,25000,22000,260000])"
   ]
  },
  {
   "cell_type": "code",
   "execution_count": 37,
   "id": "7b5dcf17",
   "metadata": {},
   "outputs": [],
   "source": [
    "salAvg = sum(sal)/len(sal)"
   ]
  },
  {
   "cell_type": "code",
   "execution_count": 38,
   "id": "553e98a0",
   "metadata": {},
   "outputs": [
    {
     "data": {
      "text/plain": [
       "24600.0"
      ]
     },
     "execution_count": 38,
     "metadata": {},
     "output_type": "execute_result"
    }
   ],
   "source": [
    "salAvg"
   ]
  },
  {
   "cell_type": "code",
   "execution_count": 39,
   "id": "f8c584f9",
   "metadata": {},
   "outputs": [],
   "source": [
    "salAvg = sal.mean()"
   ]
  },
  {
   "cell_type": "code",
   "execution_count": 40,
   "id": "a37e274a",
   "metadata": {
    "scrolled": true
   },
   "outputs": [
    {
     "data": {
      "text/plain": [
       "24600.0"
      ]
     },
     "execution_count": 40,
     "metadata": {},
     "output_type": "execute_result"
    }
   ],
   "source": [
    "salAvg"
   ]
  },
  {
   "cell_type": "code",
   "execution_count": 41,
   "id": "1c1f09cc",
   "metadata": {},
   "outputs": [],
   "source": [
    "sal.sort()"
   ]
  },
  {
   "cell_type": "code",
   "execution_count": 42,
   "id": "436a68b9",
   "metadata": {},
   "outputs": [
    {
     "data": {
      "text/plain": [
       "array([20000, 22000, 25000, 26000, 30000])"
      ]
     },
     "execution_count": 42,
     "metadata": {},
     "output_type": "execute_result"
    }
   ],
   "source": [
    "sal"
   ]
  },
  {
   "cell_type": "code",
   "execution_count": 43,
   "id": "402a9832",
   "metadata": {},
   "outputs": [
    {
     "ename": "IndexError",
     "evalue": "only integers, slices (`:`), ellipsis (`...`), numpy.newaxis (`None`) and integer or boolean arrays are valid indices",
     "output_type": "error",
     "traceback": [
      "\u001b[0;31m---------------------------------------------------------------------------\u001b[0m",
      "\u001b[0;31mIndexError\u001b[0m                                Traceback (most recent call last)",
      "Input \u001b[0;32mIn [43]\u001b[0m, in \u001b[0;36m<cell line: 1>\u001b[0;34m()\u001b[0m\n\u001b[0;32m----> 1\u001b[0m \u001b[38;5;28mprint\u001b[39m(\u001b[43msal\u001b[49m\u001b[43m[\u001b[49m\u001b[38;5;28;43mlen\u001b[39;49m\u001b[43m(\u001b[49m\u001b[43msal\u001b[49m\u001b[43m)\u001b[49m\u001b[38;5;241;43m/\u001b[39;49m\u001b[38;5;241;43m2\u001b[39;49m\u001b[43m]\u001b[49m)\n",
      "\u001b[0;31mIndexError\u001b[0m: only integers, slices (`:`), ellipsis (`...`), numpy.newaxis (`None`) and integer or boolean arrays are valid indices"
     ]
    }
   ],
   "source": [
    "print(sal[len(sal)/2])"
   ]
  },
  {
   "cell_type": "code",
   "execution_count": 51,
   "id": "f5c6b9ab",
   "metadata": {},
   "outputs": [
    {
     "name": "stdout",
     "output_type": "stream",
     "text": [
      "25000\n"
     ]
    }
   ],
   "source": [
    "print(sal[round(len(sal)/2)])"
   ]
  },
  {
   "cell_type": "code",
   "execution_count": 53,
   "id": "df0eeaf7",
   "metadata": {},
   "outputs": [
    {
     "data": {
      "text/plain": [
       "25000.0"
      ]
     },
     "execution_count": 53,
     "metadata": {},
     "output_type": "execute_result"
    }
   ],
   "source": [
    "np.median(sal)"
   ]
  },
  {
   "cell_type": "code",
   "execution_count": 54,
   "id": "694d8fd5",
   "metadata": {},
   "outputs": [
    {
     "data": {
      "text/plain": [
       "array([  400000000,   900000000,   625000000,   484000000, 67600000000])"
      ]
     },
     "execution_count": 54,
     "metadata": {},
     "output_type": "execute_result"
    }
   ],
   "source": [
    "sal**2"
   ]
  },
  {
   "cell_type": "code",
   "execution_count": 56,
   "id": "c2fdb45f",
   "metadata": {},
   "outputs": [
    {
     "data": {
      "text/plain": [
       "14001800000.0"
      ]
     },
     "execution_count": 56,
     "metadata": {},
     "output_type": "execute_result"
    }
   ],
   "source": [
    "np.round(np.mean(sal**2),2)"
   ]
  },
  {
   "cell_type": "code",
   "execution_count": 57,
   "id": "a6846141",
   "metadata": {},
   "outputs": [
    {
     "data": {
      "text/plain": [
       "8903840000.0"
      ]
     },
     "execution_count": 57,
     "metadata": {},
     "output_type": "execute_result"
    }
   ],
   "source": [
    "np.var(sal)"
   ]
  },
  {
   "cell_type": "code",
   "execution_count": 58,
   "id": "7fc77f47",
   "metadata": {},
   "outputs": [
    {
     "data": {
      "text/plain": [
       "94360.1610850681"
      ]
     },
     "execution_count": 58,
     "metadata": {},
     "output_type": "execute_result"
    }
   ],
   "source": [
    "np.sqrt(np.var(sal))"
   ]
  },
  {
   "cell_type": "code",
   "execution_count": 59,
   "id": "0062a271",
   "metadata": {},
   "outputs": [
    {
     "data": {
      "text/plain": [
       "94360.1610850681"
      ]
     },
     "execution_count": 59,
     "metadata": {},
     "output_type": "execute_result"
    }
   ],
   "source": [
    "np.std(sal)"
   ]
  },
  {
   "cell_type": "code",
   "execution_count": 60,
   "id": "48e6835d",
   "metadata": {},
   "outputs": [
    {
     "data": {
      "text/plain": [
       "94360.0"
      ]
     },
     "execution_count": 60,
     "metadata": {},
     "output_type": "execute_result"
    }
   ],
   "source": [
    "np.round(np.std(sal))"
   ]
  },
  {
   "cell_type": "code",
   "execution_count": 61,
   "id": "c2c63751",
   "metadata": {},
   "outputs": [
    {
     "data": {
      "text/plain": [
       "76000.00000000004"
      ]
     },
     "execution_count": 61,
     "metadata": {},
     "output_type": "execute_result"
    }
   ],
   "source": [
    "np.quantile(sal,q=.8) #80th percentile"
   ]
  },
  {
   "cell_type": "markdown",
   "id": "d9f575d3",
   "metadata": {},
   "source": [
    "<h2>End of day 2"
   ]
  },
  {
   "cell_type": "code",
   "execution_count": null,
   "id": "5eb73f91",
   "metadata": {},
   "outputs": [],
   "source": []
  }
 ],
 "metadata": {
  "kernelspec": {
   "display_name": "Python 3 (ipykernel)",
   "language": "python",
   "name": "python3"
  },
  "language_info": {
   "codemirror_mode": {
    "name": "ipython",
    "version": 3
   },
   "file_extension": ".py",
   "mimetype": "text/x-python",
   "name": "python",
   "nbconvert_exporter": "python",
   "pygments_lexer": "ipython3",
   "version": "3.9.12"
  }
 },
 "nbformat": 4,
 "nbformat_minor": 5
}
